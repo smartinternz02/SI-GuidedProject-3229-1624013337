{
 "cells": [
  {
   "cell_type": "code",
   "execution_count": 3,
   "metadata": {},
   "outputs": [],
   "source": [
    "from keras.preprocessing.image import ImageDataGenerator"
   ]
  },
  {
   "cell_type": "code",
   "execution_count": 4,
   "metadata": {},
   "outputs": [],
   "source": [
    "train_datagen=ImageDataGenerator(rescale=1./255,shear_range=0.2,zoom_range=0.2,horizontal_flip=True)\n",
    "test_datagen=ImageDataGenerator(rescale=1./255)"
   ]
  },
  {
   "cell_type": "code",
   "execution_count": 19,
   "metadata": {},
   "outputs": [],
   "source": [
    "val_datagen=ImageDataGenerator(rescale=1./255)"
   ]
  },
  {
   "cell_type": "code",
   "execution_count": 20,
   "metadata": {},
   "outputs": [
    {
     "name": "stdout",
     "output_type": "stream",
     "text": [
      "Found 15341 images belonging to 6 classes.\n",
      "Found 6825 images belonging to 6 classes.\n"
     ]
    }
   ],
   "source": [
    "train=train_datagen.flow_from_directory(directory=r'F:\\dipu\\data\\train',target_size=(64,64),batch_size=32,class_mode='categorical')\n",
    "test=test_datagen.flow_from_directory(directory=r'F:\\dipu\\data\\test',target_size=(64,64),batch_size=32,class_mode='categorical')"
   ]
  },
  {
   "cell_type": "code",
   "execution_count": 21,
   "metadata": {},
   "outputs": [],
   "source": [
    "from tensorflow.keras.models import Sequential\n",
    "from tensorflow.keras.layers import Dense\n",
    "from tensorflow.keras.layers import Conv2D\n",
    "from tensorflow.keras.layers import MaxPooling2D\n",
    "from tensorflow.keras.layers import Flatten\n",
    "from tensorflow.keras.optimizers import Adam"
   ]
  },
  {
   "cell_type": "code",
   "execution_count": 22,
   "metadata": {},
   "outputs": [],
   "source": [
    "model=Sequential()"
   ]
  },
  {
   "cell_type": "code",
   "execution_count": 23,
   "metadata": {},
   "outputs": [],
   "source": [
    "#First convolution layer\n",
    "model.add(Conv2D(32,(3,3),input_shape=(64,64,3),activation='relu'))\n",
    "model.add(MaxPooling2D(pool_size=(2,2)))\n",
    "#Second convolution layer\n",
    "model.add(Conv2D(32,(3,3),activation='relu'))\n",
    "model.add(MaxPooling2D(pool_size=(2,2)))\n",
    "\n",
    "#Flattening the layers\n",
    "\n",
    "model.add(Flatten())"
   ]
  },
  {
   "cell_type": "code",
   "execution_count": 24,
   "metadata": {},
   "outputs": [],
   "source": [
    "#Adding first hidden layer\n",
    "\n",
    "model.add(Dense(32))\n",
    "#Adding first hidden layer\n",
    "\n",
    "model.add(Dense(6,activation=\"softmax\"))\n"
   ]
  },
  {
   "cell_type": "code",
   "execution_count": 25,
   "metadata": {},
   "outputs": [
    {
     "name": "stdout",
     "output_type": "stream",
     "text": [
      "Model: \"sequential_1\"\n",
      "_________________________________________________________________\n",
      "Layer (type)                 Output Shape              Param #   \n",
      "=================================================================\n",
      "conv2d_3 (Conv2D)            (None, 62, 62, 32)        896       \n",
      "_________________________________________________________________\n",
      "max_pooling2d_2 (MaxPooling2 (None, 31, 31, 32)        0         \n",
      "_________________________________________________________________\n",
      "conv2d_4 (Conv2D)            (None, 29, 29, 32)        9248      \n",
      "_________________________________________________________________\n",
      "max_pooling2d_3 (MaxPooling2 (None, 14, 14, 32)        0         \n",
      "_________________________________________________________________\n",
      "flatten_1 (Flatten)          (None, 6272)              0         \n",
      "_________________________________________________________________\n",
      "dense_2 (Dense)              (None, 32)                200736    \n",
      "_________________________________________________________________\n",
      "dense_3 (Dense)              (None, 6)                 198       \n",
      "=================================================================\n",
      "Total params: 211,078\n",
      "Trainable params: 211,078\n",
      "Non-trainable params: 0\n",
      "_________________________________________________________________\n"
     ]
    }
   ],
   "source": [
    "model.summary()"
   ]
  },
  {
   "cell_type": "code",
   "execution_count": 26,
   "metadata": {},
   "outputs": [],
   "source": [
    "model.compile(loss='categorical_crossentropy',optimizer='adam',metrics=['accuracy'])"
   ]
  },
  {
   "cell_type": "code",
   "execution_count": 27,
   "metadata": {},
   "outputs": [
    {
     "name": "stderr",
     "output_type": "stream",
     "text": [
      "C:\\Users\\dell\\anaconda3\\lib\\site-packages\\tensorflow\\python\\keras\\engine\\training.py:1940: UserWarning: `Model.fit_generator` is deprecated and will be removed in a future version. Please use `Model.fit`, which supports generators.\n",
      "  warnings.warn('`Model.fit_generator` is deprecated and '\n"
     ]
    },
    {
     "name": "stdout",
     "output_type": "stream",
     "text": [
      "Epoch 1/30\n",
      "39/39 [==============================] - 11s 234ms/step - loss: 1.5085 - accuracy: 0.4369 - val_loss: 1.6625 - val_accuracy: 0.3073\n",
      "Epoch 2/30\n",
      "39/39 [==============================] - 10s 233ms/step - loss: 1.4275 - accuracy: 0.4848 - val_loss: 1.6745 - val_accuracy: 0.3281\n",
      "Epoch 3/30\n",
      "39/39 [==============================] - 9s 243ms/step - loss: 1.4152 - accuracy: 0.4671 - val_loss: 1.5112 - val_accuracy: 0.3698\n",
      "Epoch 4/30\n",
      "39/39 [==============================] - 8s 201ms/step - loss: 1.2630 - accuracy: 0.5449 - val_loss: 1.4711 - val_accuracy: 0.4219\n",
      "Epoch 5/30\n",
      "39/39 [==============================] - 8s 202ms/step - loss: 1.0808 - accuracy: 0.6322 - val_loss: 1.4487 - val_accuracy: 0.4036\n",
      "Epoch 6/30\n",
      "39/39 [==============================] - 9s 224ms/step - loss: 0.9509 - accuracy: 0.6794 - val_loss: 1.2781 - val_accuracy: 0.5156\n",
      "Epoch 7/30\n",
      "39/39 [==============================] - 9s 213ms/step - loss: 0.9174 - accuracy: 0.7019 - val_loss: 1.2316 - val_accuracy: 0.5703\n",
      "Epoch 8/30\n",
      "39/39 [==============================] - 8s 189ms/step - loss: 0.8108 - accuracy: 0.7380 - val_loss: 1.1425 - val_accuracy: 0.6276\n",
      "Epoch 9/30\n",
      "39/39 [==============================] - 7s 179ms/step - loss: 0.6297 - accuracy: 0.7957 - val_loss: 1.1110 - val_accuracy: 0.6380\n",
      "Epoch 10/30\n",
      "39/39 [==============================] - 7s 177ms/step - loss: 0.5505 - accuracy: 0.8349 - val_loss: 0.9228 - val_accuracy: 0.6875\n",
      "Epoch 11/30\n",
      "39/39 [==============================] - 6s 161ms/step - loss: 0.5291 - accuracy: 0.8373 - val_loss: 0.7778 - val_accuracy: 0.7448\n",
      "Epoch 12/30\n",
      "39/39 [==============================] - 7s 167ms/step - loss: 0.4762 - accuracy: 0.8527 - val_loss: 0.8552 - val_accuracy: 0.7240\n",
      "Epoch 13/30\n",
      "39/39 [==============================] - 8s 202ms/step - loss: 0.4538 - accuracy: 0.8734 - val_loss: 0.8296 - val_accuracy: 0.7161\n",
      "Epoch 14/30\n",
      "39/39 [==============================] - 7s 175ms/step - loss: 0.3585 - accuracy: 0.8894 - val_loss: 0.5625 - val_accuracy: 0.8099\n",
      "Epoch 15/30\n",
      "39/39 [==============================] - 7s 175ms/step - loss: 0.4191 - accuracy: 0.8782 - val_loss: 0.5575 - val_accuracy: 0.7943\n",
      "Epoch 16/30\n",
      "39/39 [==============================] - 6s 164ms/step - loss: 0.3698 - accuracy: 0.9006 - val_loss: 0.3995 - val_accuracy: 0.8568\n",
      "Epoch 17/30\n",
      "39/39 [==============================] - 6s 155ms/step - loss: 0.3870 - accuracy: 0.8942 - val_loss: 0.4593 - val_accuracy: 0.8333\n",
      "Epoch 18/30\n",
      "39/39 [==============================] - 5s 133ms/step - loss: 0.3612 - accuracy: 0.8950 - val_loss: 0.5010 - val_accuracy: 0.8099\n",
      "Epoch 19/30\n",
      "39/39 [==============================] - 5s 132ms/step - loss: 0.2963 - accuracy: 0.9111 - val_loss: 0.4319 - val_accuracy: 0.8411\n",
      "Epoch 20/30\n",
      "39/39 [==============================] - 6s 155ms/step - loss: 0.3091 - accuracy: 0.9062 - val_loss: 0.3970 - val_accuracy: 0.8646\n",
      "Epoch 21/30\n",
      "39/39 [==============================] - 6s 146ms/step - loss: 0.2513 - accuracy: 0.9175 - val_loss: 0.4798 - val_accuracy: 0.8568\n",
      "Epoch 22/30\n",
      "39/39 [==============================] - 6s 145ms/step - loss: 0.2917 - accuracy: 0.9054 - val_loss: 0.5162 - val_accuracy: 0.8438\n",
      "Epoch 23/30\n",
      "39/39 [==============================] - 6s 152ms/step - loss: 0.3154 - accuracy: 0.9046 - val_loss: 0.5386 - val_accuracy: 0.8333\n",
      "Epoch 24/30\n",
      "39/39 [==============================] - 5s 128ms/step - loss: 0.2748 - accuracy: 0.9119 - val_loss: 0.4107 - val_accuracy: 0.8672\n",
      "Epoch 25/30\n",
      "39/39 [==============================] - 5s 137ms/step - loss: 0.2899 - accuracy: 0.9167 - val_loss: 0.3920 - val_accuracy: 0.8594\n",
      "Epoch 26/30\n",
      "39/39 [==============================] - 5s 134ms/step - loss: 0.2632 - accuracy: 0.9215 - val_loss: 0.5823 - val_accuracy: 0.8438\n",
      "Epoch 27/30\n",
      "39/39 [==============================] - 6s 145ms/step - loss: 0.2535 - accuracy: 0.9207 - val_loss: 0.4150 - val_accuracy: 0.8672\n",
      "Epoch 28/30\n",
      "39/39 [==============================] - 5s 129ms/step - loss: 0.3152 - accuracy: 0.9087 - val_loss: 0.4130 - val_accuracy: 0.8281\n",
      "Epoch 29/30\n",
      "39/39 [==============================] - 5s 135ms/step - loss: 0.2633 - accuracy: 0.9231 - val_loss: 0.4905 - val_accuracy: 0.8385\n",
      "Epoch 30/30\n",
      "39/39 [==============================] - 5s 136ms/step - loss: 0.3086 - accuracy: 0.9087 - val_loss: 0.3609 - val_accuracy: 0.8464\n"
     ]
    },
    {
     "data": {
      "text/plain": [
       "<tensorflow.python.keras.callbacks.History at 0x22951efb220>"
      ]
     },
     "execution_count": 27,
     "metadata": {},
     "output_type": "execute_result"
    }
   ],
   "source": [
    "model.fit_generator(train,steps_per_epoch=2527//64,validation_steps=782//64,epochs=30,validation_data=test)"
   ]
  },
  {
   "cell_type": "code",
   "execution_count": 30,
   "metadata": {},
   "outputs": [],
   "source": [
    "model.save('ECG.h5')"
   ]
  },
  {
   "cell_type": "code",
   "execution_count": 31,
   "metadata": {},
   "outputs": [],
   "source": [
    "from tensorflow.keras.models import load_model\n",
    "from keras.preprocessing import image\n",
    "model = load_model(\"ECG.h5\")"
   ]
  },
  {
   "cell_type": "code",
   "execution_count": null,
   "metadata": {},
   "outputs": [],
   "source": []
  }
 ],
 "metadata": {
  "kernelspec": {
   "display_name": "Python 3",
   "language": "python",
   "name": "python3"
  },
  "language_info": {
   "codemirror_mode": {
    "name": "ipython",
    "version": 3
   },
   "file_extension": ".py",
   "mimetype": "text/x-python",
   "name": "python",
   "nbconvert_exporter": "python",
   "pygments_lexer": "ipython3",
   "version": "3.8.5"
  }
 },
 "nbformat": 4,
 "nbformat_minor": 4
}
